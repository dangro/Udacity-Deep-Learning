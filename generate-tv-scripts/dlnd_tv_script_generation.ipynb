{
 "cells": [
  {
   "cell_type": "markdown",
   "metadata": {
    "deletable": true,
    "editable": true
   },
   "source": [
    "# TV Script Generation\n",
    "In this project, you'll generate your own [Simpsons](https://en.wikipedia.org/wiki/The_Simpsons) TV scripts using RNNs.  You'll be using part of the [Simpsons dataset](https://www.kaggle.com/wcukierski/the-simpsons-by-the-data) of scripts from 27 seasons.  The Neural Network you'll build will generate a new TV script for a scene at [Moe's Tavern](https://simpsonswiki.com/wiki/Moe's_Tavern).\n",
    "## Get the Data\n",
    "The data is already provided for you.  You'll be using a subset of the original dataset.  It consists of only the scenes in Moe's Tavern.  This doesn't include other versions of the tavern, like \"Moe's Cavern\", \"Flaming Moe's\", \"Uncle Moe's Family Feed-Bag\", etc.."
   ]
  },
  {
   "cell_type": "code",
   "execution_count": 1,
   "metadata": {
    "collapsed": true,
    "deletable": true,
    "editable": true
   },
   "outputs": [],
   "source": [
    "\"\"\"\n",
    "DON'T MODIFY ANYTHING IN THIS CELL\n",
    "\"\"\"\n",
    "import helper\n",
    "\n",
    "data_dir = './data/simpsons/moes_tavern_lines.txt'\n",
    "text = helper.load_data(data_dir)\n",
    "# Ignore notice, since we don't use it for analysing the data\n",
    "text = text[81:]"
   ]
  },
  {
   "cell_type": "markdown",
   "metadata": {
    "deletable": true,
    "editable": true
   },
   "source": [
    "## Explore the Data\n",
    "Play around with `view_sentence_range` to view different parts of the data."
   ]
  },
  {
   "cell_type": "code",
   "execution_count": 2,
   "metadata": {
    "collapsed": false,
    "deletable": true,
    "editable": true
   },
   "outputs": [
    {
     "name": "stdout",
     "output_type": "stream",
     "text": [
      "Dataset Stats\n",
      "Roughly the number of unique words: 11492\n",
      "Number of scenes: 262\n",
      "Average number of sentences in each scene: 15.248091603053435\n",
      "Number of lines: 4257\n",
      "Average number of words in each line: 11.50434578341555\n",
      "\n",
      "The sentences 0 to 10:\n",
      "Moe_Szyslak: (INTO PHONE) Moe's Tavern. Where the elite meet to drink.\n",
      "Bart_Simpson: Eh, yeah, hello, is Mike there? Last name, Rotch.\n",
      "Moe_Szyslak: (INTO PHONE) Hold on, I'll check. (TO BARFLIES) Mike Rotch. Mike Rotch. Hey, has anybody seen Mike Rotch, lately?\n",
      "Moe_Szyslak: (INTO PHONE) Listen you little puke. One of these days I'm gonna catch you, and I'm gonna carve my name on your back with an ice pick.\n",
      "Moe_Szyslak: What's the matter Homer? You're not your normal effervescent self.\n",
      "Homer_Simpson: I got my problems, Moe. Give me another one.\n",
      "Moe_Szyslak: Homer, hey, you should not drink to forget your problems.\n",
      "Barney_Gumble: Yeah, you should only drink to enhance your social skills.\n",
      "\n",
      "\n"
     ]
    }
   ],
   "source": [
    "view_sentence_range = (0, 10)\n",
    "\n",
    "\"\"\"\n",
    "DON'T MODIFY ANYTHING IN THIS CELL\n",
    "\"\"\"\n",
    "import numpy as np\n",
    "\n",
    "print('Dataset Stats')\n",
    "print('Roughly the number of unique words: {}'.format(len({word: None for word in text.split()})))\n",
    "scenes = text.split('\\n\\n')\n",
    "print('Number of scenes: {}'.format(len(scenes)))\n",
    "sentence_count_scene = [scene.count('\\n') for scene in scenes]\n",
    "print('Average number of sentences in each scene: {}'.format(np.average(sentence_count_scene)))\n",
    "\n",
    "sentences = [sentence for scene in scenes for sentence in scene.split('\\n')]\n",
    "print('Number of lines: {}'.format(len(sentences)))\n",
    "word_count_sentence = [len(sentence.split()) for sentence in sentences]\n",
    "print('Average number of words in each line: {}'.format(np.average(word_count_sentence)))\n",
    "\n",
    "print()\n",
    "print('The sentences {} to {}:'.format(*view_sentence_range))\n",
    "print('\\n'.join(text.split('\\n')[view_sentence_range[0]:view_sentence_range[1]]))"
   ]
  },
  {
   "cell_type": "markdown",
   "metadata": {
    "deletable": true,
    "editable": true
   },
   "source": [
    "## Implement Preprocessing Functions\n",
    "The first thing to do to any dataset is preprocessing.  Implement the following preprocessing functions below:\n",
    "- Lookup Table\n",
    "- Tokenize Punctuation\n",
    "\n",
    "### Lookup Table\n",
    "To create a word embedding, you first need to transform the words to ids.  In this function, create two dictionaries:\n",
    "- Dictionary to go from the words to an id, we'll call `vocab_to_int`\n",
    "- Dictionary to go from the id to word, we'll call `int_to_vocab`\n",
    "\n",
    "Return these dictionaries in the following tuple `(vocab_to_int, int_to_vocab)`"
   ]
  },
  {
   "cell_type": "code",
   "execution_count": 3,
   "metadata": {
    "collapsed": false,
    "deletable": true,
    "editable": true
   },
   "outputs": [
    {
     "name": "stdout",
     "output_type": "stream",
     "text": [
      "Tests Passed\n"
     ]
    }
   ],
   "source": [
    "import numpy as np\n",
    "import problem_unittests as tests\n",
    "from collections import Counter\n",
    "def create_lookup_tables(text):\n",
    "    \"\"\"\n",
    "    Create lookup tables for vocabulary\n",
    "    :param text: The text of tv scripts split into words\n",
    "    :return: A tuple of dicts (vocab_to_int, int_to_vocab)\n",
    "    \"\"\"\n",
    "    sorted_word_counts = sorted(Counter(text))\n",
    "    vocab_to_int = {v: k for k, v in enumerate(sorted_word_counts)}\n",
    "    int_to_vocab = {k: v for k, v in enumerate(sorted_word_counts)}\n",
    "    \n",
    "    return (vocab_to_int, int_to_vocab)\n",
    "\n",
    "\n",
    "\"\"\"\n",
    "DON'T MODIFY ANYTHING IN THIS CELL THAT IS BELOW THIS LINE\n",
    "\"\"\"\n",
    "tests.test_create_lookup_tables(create_lookup_tables)"
   ]
  },
  {
   "cell_type": "markdown",
   "metadata": {
    "deletable": true,
    "editable": true
   },
   "source": [
    "### Tokenize Punctuation\n",
    "We'll be splitting the script into a word array using spaces as delimiters.  However, punctuations like periods and exclamation marks make it hard for the neural network to distinguish between the word \"bye\" and \"bye!\".\n",
    "\n",
    "Implement the function `token_lookup` to return a dict that will be used to tokenize symbols like \"!\" into \"||Exclamation_Mark||\".  Create a dictionary for the following symbols where the symbol is the key and value is the token:\n",
    "- Period ( . )\n",
    "- Comma ( , )\n",
    "- Quotation Mark ( \" )\n",
    "- Semicolon ( ; )\n",
    "- Exclamation mark ( ! )\n",
    "- Question mark ( ? )\n",
    "- Left Parentheses ( ( )\n",
    "- Right Parentheses ( ) )\n",
    "- Dash ( -- )\n",
    "- Return ( \\n )\n",
    "\n",
    "This dictionary will be used to token the symbols and add the delimiter (space) around it.  This separates the symbols as it's own word, making it easier for the neural network to predict on the next word. Make sure you don't use a token that could be confused as a word. Instead of using the token \"dash\", try using something like \"||dash||\"."
   ]
  },
  {
   "cell_type": "code",
   "execution_count": 4,
   "metadata": {
    "collapsed": false,
    "deletable": true,
    "editable": true
   },
   "outputs": [
    {
     "name": "stdout",
     "output_type": "stream",
     "text": [
      "Tests Passed\n"
     ]
    }
   ],
   "source": [
    "def token_lookup():\n",
    "    \"\"\"\n",
    "    Generate a dict to turn punctuation into a token.\n",
    "    :return: Tokenize dictionary where the key is the punctuation and the value is the token\n",
    "    \"\"\"\n",
    "    tokens = {\n",
    "        \".\": \"||Period||\",\n",
    "        \",\": \"||Comma||\",\n",
    "        \"\\\"\": \"||Quotation_Mark||\",\n",
    "        \";\": \"||Semicolon||\",\n",
    "        \"!\": \"||Exclamation_mark||\",\n",
    "        \"?\": \"||Question_mark||\",\n",
    "        \"(\": \"||Left_Parentheses||\",\n",
    "        \")\": \"||Right_Parentheses||\",\n",
    "        \"--\": \"||Dash||\",\n",
    "        \"\\n\": \"||Return||\"    \n",
    "    }\n",
    "    return tokens\n",
    "\n",
    "\"\"\"\n",
    "DON'T MODIFY ANYTHING IN THIS CELL THAT IS BELOW THIS LINE\n",
    "\"\"\"\n",
    "tests.test_tokenize(token_lookup)"
   ]
  },
  {
   "cell_type": "markdown",
   "metadata": {
    "deletable": true,
    "editable": true
   },
   "source": [
    "## Preprocess all the data and save it\n",
    "Running the code cell below will preprocess all the data and save it to file."
   ]
  },
  {
   "cell_type": "code",
   "execution_count": 5,
   "metadata": {
    "collapsed": true,
    "deletable": true,
    "editable": true
   },
   "outputs": [],
   "source": [
    "\"\"\"\n",
    "DON'T MODIFY ANYTHING IN THIS CELL\n",
    "\"\"\"\n",
    "# Preprocess Training, Validation, and Testing Data\n",
    "helper.preprocess_and_save_data(data_dir, token_lookup, create_lookup_tables)"
   ]
  },
  {
   "cell_type": "markdown",
   "metadata": {
    "deletable": true,
    "editable": true
   },
   "source": [
    "# Check Point\n",
    "This is your first checkpoint. If you ever decide to come back to this notebook or have to restart the notebook, you can start from here. The preprocessed data has been saved to disk."
   ]
  },
  {
   "cell_type": "code",
   "execution_count": 6,
   "metadata": {
    "collapsed": true,
    "deletable": true,
    "editable": true
   },
   "outputs": [],
   "source": [
    "\"\"\"\n",
    "DON'T MODIFY ANYTHING IN THIS CELL\n",
    "\"\"\"\n",
    "import helper\n",
    "import numpy as np\n",
    "import problem_unittests as tests\n",
    "\n",
    "int_text, vocab_to_int, int_to_vocab, token_dict = helper.load_preprocess()"
   ]
  },
  {
   "cell_type": "markdown",
   "metadata": {
    "deletable": true,
    "editable": true
   },
   "source": [
    "## Build the Neural Network\n",
    "You'll build the components necessary to build a RNN by implementing the following functions below:\n",
    "- get_inputs\n",
    "- get_init_cell\n",
    "- get_embed\n",
    "- build_rnn\n",
    "- build_nn\n",
    "- get_batches\n",
    "\n",
    "### Check the Version of TensorFlow and Access to GPU"
   ]
  },
  {
   "cell_type": "code",
   "execution_count": 7,
   "metadata": {
    "collapsed": false,
    "deletable": true,
    "editable": true
   },
   "outputs": [
    {
     "name": "stdout",
     "output_type": "stream",
     "text": [
      "TensorFlow Version: 1.0.0\n",
      "Default GPU Device: /gpu:0\n"
     ]
    }
   ],
   "source": [
    "\"\"\"\n",
    "DON'T MODIFY ANYTHING IN THIS CELL\n",
    "\"\"\"\n",
    "from distutils.version import LooseVersion\n",
    "import warnings\n",
    "import tensorflow as tf\n",
    "\n",
    "# Check TensorFlow Version\n",
    "assert LooseVersion(tf.__version__) >= LooseVersion('1.0'), 'Please use TensorFlow version 1.0 or newer'\n",
    "print('TensorFlow Version: {}'.format(tf.__version__))\n",
    "\n",
    "# Check for a GPU\n",
    "if not tf.test.gpu_device_name():\n",
    "    warnings.warn('No GPU found. Please use a GPU to train your neural network.')\n",
    "else:\n",
    "    print('Default GPU Device: {}'.format(tf.test.gpu_device_name()))"
   ]
  },
  {
   "cell_type": "markdown",
   "metadata": {
    "deletable": true,
    "editable": true
   },
   "source": [
    "### Input\n",
    "Implement the `get_inputs()` function to create TF Placeholders for the Neural Network.  It should create the following placeholders:\n",
    "- Input text placeholder named \"input\" using the [TF Placeholder](https://www.tensorflow.org/api_docs/python/tf/placeholder) `name` parameter.\n",
    "- Targets placeholder\n",
    "- Learning Rate placeholder\n",
    "\n",
    "Return the placeholders in the following tuple `(Input, Targets, LearningRate)`"
   ]
  },
  {
   "cell_type": "code",
   "execution_count": 8,
   "metadata": {
    "collapsed": false,
    "deletable": true,
    "editable": true
   },
   "outputs": [
    {
     "name": "stdout",
     "output_type": "stream",
     "text": [
      "Tests Passed\n"
     ]
    }
   ],
   "source": [
    "def get_inputs():\n",
    "    \"\"\"\n",
    "    Create TF Placeholders for input, targets, and learning rate.\n",
    "    :return: Tuple (input, targets, learning rate)\n",
    "    \"\"\"\n",
    "    input_ = tf.placeholder(tf.int32, [None, None], name=\"input\")\n",
    "    targets_ = tf.placeholder(tf.int32, [None, None], name=\"targets\")\n",
    "    learning_rate_ = tf.placeholder(tf.float32, name=\"learning_rate\")\n",
    "    return input_, targets_, learning_rate_\n",
    "\n",
    "\n",
    "\"\"\"\n",
    "DON'T MODIFY ANYTHING IN THIS CELL THAT IS BELOW THIS LINE\n",
    "\"\"\"\n",
    "tests.test_get_inputs(get_inputs)"
   ]
  },
  {
   "cell_type": "markdown",
   "metadata": {
    "deletable": true,
    "editable": true
   },
   "source": [
    "### Build RNN Cell and Initialize\n",
    "Stack one or more [`BasicLSTMCells`](https://www.tensorflow.org/api_docs/python/tf/contrib/rnn/BasicLSTMCell) in a [`MultiRNNCell`](https://www.tensorflow.org/api_docs/python/tf/contrib/rnn/MultiRNNCell).\n",
    "- The Rnn size should be set using `rnn_size`\n",
    "- Initalize Cell State using the MultiRNNCell's [`zero_state()`](https://www.tensorflow.org/api_docs/python/tf/contrib/rnn/MultiRNNCell#zero_state) function\n",
    "    - Apply the name \"initial_state\" to the initial state using [`tf.identity()`](https://www.tensorflow.org/api_docs/python/tf/identity)\n",
    "\n",
    "Return the cell and initial state in the following tuple `(Cell, InitialState)`"
   ]
  },
  {
   "cell_type": "code",
   "execution_count": 9,
   "metadata": {
    "collapsed": false,
    "deletable": true,
    "editable": true
   },
   "outputs": [
    {
     "name": "stdout",
     "output_type": "stream",
     "text": [
      "Tests Passed\n"
     ]
    }
   ],
   "source": [
    "def get_init_cell(batch_size, rnn_size):\n",
    "    \"\"\"\n",
    "    Create an RNN Cell and initialize it.\n",
    "    :param batch_size: Size of batches\n",
    "    :param rnn_size: Size of RNNs\n",
    "    :return: Tuple (cell, initialize state)\n",
    "    \"\"\"\n",
    "    lstm_ = tf.contrib.rnn.BasicLSTMCell(rnn_size)\n",
    "    cell_ = tf.contrib.rnn.MultiRNNCell([lstm_])\n",
    "    initial_state_ = tf.identity(cell_.zero_state(batch_size, tf.float32), name=\"initial_state\")\n",
    "    return cell_, initial_state_\n",
    "\n",
    "\n",
    "\"\"\"\n",
    "DON'T MODIFY ANYTHING IN THIS CELL THAT IS BELOW THIS LINE\n",
    "\"\"\"\n",
    "tests.test_get_init_cell(get_init_cell)"
   ]
  },
  {
   "cell_type": "markdown",
   "metadata": {
    "deletable": true,
    "editable": true
   },
   "source": [
    "### Word Embedding\n",
    "Apply embedding to `input_data` using TensorFlow.  Return the embedded sequence."
   ]
  },
  {
   "cell_type": "code",
   "execution_count": 10,
   "metadata": {
    "collapsed": false,
    "deletable": true,
    "editable": true
   },
   "outputs": [
    {
     "name": "stdout",
     "output_type": "stream",
     "text": [
      "Tests Passed\n"
     ]
    }
   ],
   "source": [
    "def get_embed(input_data, vocab_size, embed_dim):\n",
    "    \"\"\"\n",
    "    Create embedding for <input_data>.\n",
    "    :param input_data: TF placeholder for text input.\n",
    "    :param vocab_size: Number of words in vocabulary.\n",
    "    :param embed_dim: Number of embedding dimensions\n",
    "    :return: Embedded input.\n",
    "    \"\"\"\n",
    "\n",
    "    embedding = tf.Variable(tf.random_uniform((vocab_size, embed_dim), -1, 1))\n",
    "    embed = tf.nn.embedding_lookup(embedding, input_data)\n",
    "    return embed\n",
    "\n",
    "\n",
    "\"\"\"\n",
    "DON'T MODIFY ANYTHING IN THIS CELL THAT IS BELOW THIS LINE\n",
    "\"\"\"\n",
    "tests.test_get_embed(get_embed)"
   ]
  },
  {
   "cell_type": "markdown",
   "metadata": {
    "deletable": true,
    "editable": true
   },
   "source": [
    "### Build RNN\n",
    "You created a RNN Cell in the `get_init_cell()` function.  Time to use the cell to create a RNN.\n",
    "- Build the RNN using the [`tf.nn.dynamic_rnn()`](https://www.tensorflow.org/api_docs/python/tf/nn/dynamic_rnn)\n",
    " - Apply the name \"final_state\" to the final state using [`tf.identity()`](https://www.tensorflow.org/api_docs/python/tf/identity)\n",
    "\n",
    "Return the outputs and final_state state in the following tuple `(Outputs, FinalState)` "
   ]
  },
  {
   "cell_type": "code",
   "execution_count": 11,
   "metadata": {
    "collapsed": false,
    "deletable": true,
    "editable": true
   },
   "outputs": [
    {
     "name": "stdout",
     "output_type": "stream",
     "text": [
      "Tests Passed\n"
     ]
    }
   ],
   "source": [
    "def build_rnn(cell, inputs):\n",
    "    \"\"\"\n",
    "    Create a RNN using a RNN Cell\n",
    "    :param cell: RNN Cell\n",
    "    :param inputs: Input text data\n",
    "    :return: Tuple (Outputs, Final State)\n",
    "    \"\"\"\n",
    "    outputs, final_state = tf.nn.dynamic_rnn(cell, inputs, dtype=tf.float32)\n",
    "    final_state = tf.identity(final_state, name=\"final_state\")\n",
    "    return outputs, final_state\n",
    "\n",
    "\n",
    "\"\"\"\n",
    "DON'T MODIFY ANYTHING IN THIS CELL THAT IS BELOW THIS LINE\n",
    "\"\"\"\n",
    "tests.test_build_rnn(build_rnn)"
   ]
  },
  {
   "cell_type": "markdown",
   "metadata": {
    "deletable": true,
    "editable": true
   },
   "source": [
    "### Build the Neural Network\n",
    "Apply the functions you implemented above to:\n",
    "- Apply embedding to `input_data` using your `get_embed(input_data, vocab_size, embed_dim)` function.\n",
    "- Build RNN using `cell` and your `build_rnn(cell, inputs)` function.\n",
    "- Apply a fully connected layer with a linear activation and `vocab_size` as the number of outputs.\n",
    "\n",
    "Return the logits and final state in the following tuple (Logits, FinalState) "
   ]
  },
  {
   "cell_type": "code",
   "execution_count": 12,
   "metadata": {
    "collapsed": false,
    "deletable": true,
    "editable": true
   },
   "outputs": [
    {
     "name": "stdout",
     "output_type": "stream",
     "text": [
      "Tests Passed\n"
     ]
    }
   ],
   "source": [
    "def build_nn(cell, rnn_size, input_data, vocab_size, embed_dim):\n",
    "    \"\"\"\n",
    "    Build part of the neural network\n",
    "    :param cell: RNN cell\n",
    "    :param rnn_size: Size of rnns\n",
    "    :param input_data: Input data\n",
    "    :param vocab_size: Vocabulary size\n",
    "    :param embed_dim: Number of embedding dimensions\n",
    "    :return: Tuple (Logits, FinalState)\n",
    "    \"\"\"\n",
    "    embeddings = get_embed(input_data, vocab_size, embed_dim)\n",
    "    outputs, final_state = build_rnn(cell, embeddings)\n",
    "    # activation_fn is None to keep a linear activation function\n",
    "    predictions = tf.contrib.layers.fully_connected(outputs, vocab_size, activation_fn=None)\n",
    "    return predictions, final_state\n",
    "\n",
    "\n",
    "\"\"\"\n",
    "DON'T MODIFY ANYTHING IN THIS CELL THAT IS BELOW THIS LINE\n",
    "\"\"\"\n",
    "tests.test_build_nn(build_nn)"
   ]
  },
  {
   "cell_type": "markdown",
   "metadata": {
    "deletable": true,
    "editable": true
   },
   "source": [
    "### Batches\n",
    "Implement `get_batches` to create batches of input and targets using `int_text`.  The batches should be a Numpy array with the shape `(number of batches, 2, batch size, sequence length)`. Each batch contains two elements:\n",
    "- The first element is a single batch of **input** with the shape `[batch size, sequence length]`\n",
    "- The second element is a single batch of **targets** with the shape `[batch size, sequence length]`\n",
    "\n",
    "If you can't fill the last batch with enough data, drop the last batch.\n",
    "\n",
    "For exmple, `get_batches([1, 2, 3, 4, 5, 6, 7, 8, 9, 10, 11, 12, 13, 14, 15, 16, 17, 18, 19, 20], 3, 2)` would return a Numpy array of the following:\n",
    "```\n",
    "[\n",
    "  # First Batch\n",
    "  [\n",
    "    # Batch of Input\n",
    "    [[ 1  2], [ 7  8], [13 14]]\n",
    "    # Batch of targets\n",
    "    [[ 2  3], [ 8  9], [14 15]]\n",
    "  ]\n",
    "\n",
    "  # Second Batch\n",
    "  [\n",
    "    # Batch of Input\n",
    "    [[ 3  4], [ 9 10], [15 16]]\n",
    "    # Batch of targets\n",
    "    [[ 4  5], [10 11], [16 17]]\n",
    "  ]\n",
    "\n",
    "  # Third Batch\n",
    "  [\n",
    "    # Batch of Input\n",
    "    [[ 5  6], [11 12], [17 18]]\n",
    "    # Batch of targets\n",
    "    [[ 6  7], [12 13], [18  1]]\n",
    "  ]\n",
    "]\n",
    "```\n",
    "\n",
    "Notice that the last target value in the last batch is the first input value of the first batch. In this case, `1`. This is a common technique used when creating sequence batches, although it is rather unintuitive."
   ]
  },
  {
   "cell_type": "code",
   "execution_count": 13,
   "metadata": {
    "collapsed": false,
    "deletable": true,
    "editable": true
   },
   "outputs": [
    {
     "name": "stdout",
     "output_type": "stream",
     "text": [
      "Tests Passed\n"
     ]
    }
   ],
   "source": [
    "# Several forum posts were useful in getting this right.\n",
    "# In particular, this post, https://discussions.udacity.com/t/confused-by-get-batch/330844,\n",
    "# contains an implementation by Rahul Ahuja that fixed issues I had with my failed attempt at generalizing \n",
    "# this function.\n",
    "\n",
    "def get_batches(int_text, batch_size, seq_length):\n",
    "    \"\"\"\n",
    "    Return batches of input and target\n",
    "    :param int_text: Text with the words replaced by their ids\n",
    "    :param batch_size: The size of batch\n",
    "    :param seq_length: The length of sequence\n",
    "    :return: Batches as a Numpy array\n",
    "    \"\"\"\n",
    "    batches = len(int_text) // (batch_size * seq_length)\n",
    "\n",
    "    input_ = np.array(int_text[: (batches*batch_size*seq_length)])\n",
    "    target_ = np.array(int_text[1 : (batches*batch_size*seq_length)+1])\n",
    "    target_[-1] = input_[0]\n",
    "\n",
    "    input_ = input_.reshape(batch_size, -1)\n",
    "    target_ = target_.reshape(batch_size, -1)\n",
    "\n",
    "    input_ = np.split(input_, batches, -1)\n",
    "    target_ = np.split(target_, batches, -1)\n",
    "\n",
    "    return np.array(list(zip(input_, target_)))\n",
    "\n",
    "\n",
    "\"\"\"\n",
    "DON'T MODIFY ANYTHING IN THIS CELL THAT IS BELOW THIS LINE\n",
    "\"\"\"\n",
    "tests.test_get_batches(get_batches)"
   ]
  },
  {
   "cell_type": "markdown",
   "metadata": {
    "deletable": true,
    "editable": true
   },
   "source": [
    "## Neural Network Training\n",
    "### Hyperparameters\n",
    "Tune the following parameters:\n",
    "\n",
    "- Set `num_epochs` to the number of epochs.\n",
    "- Set `batch_size` to the batch size.\n",
    "- Set `rnn_size` to the size of the RNNs.\n",
    "- Set `embed_dim` to the size of the embedding.\n",
    "- Set `seq_length` to the length of sequence.\n",
    "- Set `learning_rate` to the learning rate.\n",
    "- Set `show_every_n_batches` to the number of batches the neural network should print progress."
   ]
  },
  {
   "cell_type": "code",
   "execution_count": 14,
   "metadata": {
    "collapsed": true,
    "deletable": true,
    "editable": true
   },
   "outputs": [],
   "source": [
    "# Number of Epochs\n",
    "num_epochs = 150\n",
    "# Batch Size\n",
    "batch_size = 100\n",
    "# RNN Size\n",
    "rnn_size = 512\n",
    "# Embedding Dimension Size\n",
    "embed_dim = 300\n",
    "# Sequence Length\n",
    "seq_length = 50\n",
    "# Learning Rate\n",
    "learning_rate = 0.001\n",
    "# Show stats for every n number of batches\n",
    "show_every_n_batches = 6\n",
    "\n",
    "\"\"\"\n",
    "DON'T MODIFY ANYTHING IN THIS CELL THAT IS BELOW THIS LINE\n",
    "\"\"\"\n",
    "save_dir = './save'"
   ]
  },
  {
   "cell_type": "markdown",
   "metadata": {
    "deletable": true,
    "editable": true
   },
   "source": [
    "### Build the Graph\n",
    "Build the graph using the neural network you implemented."
   ]
  },
  {
   "cell_type": "code",
   "execution_count": 15,
   "metadata": {
    "collapsed": true,
    "deletable": true,
    "editable": true
   },
   "outputs": [],
   "source": [
    "\"\"\"\n",
    "DON'T MODIFY ANYTHING IN THIS CELL\n",
    "\"\"\"\n",
    "from tensorflow.contrib import seq2seq\n",
    "\n",
    "train_graph = tf.Graph()\n",
    "with train_graph.as_default():\n",
    "    vocab_size = len(int_to_vocab)\n",
    "    input_text, targets, lr = get_inputs()\n",
    "    input_data_shape = tf.shape(input_text)\n",
    "    cell, initial_state = get_init_cell(input_data_shape[0], rnn_size)\n",
    "    logits, final_state = build_nn(cell, rnn_size, input_text, vocab_size, embed_dim)\n",
    "\n",
    "    # Probabilities for generating words\n",
    "    probs = tf.nn.softmax(logits, name='probs')\n",
    "\n",
    "    # Loss function\n",
    "    cost = seq2seq.sequence_loss(\n",
    "        logits,\n",
    "        targets,\n",
    "        tf.ones([input_data_shape[0], input_data_shape[1]]))\n",
    "\n",
    "    # Optimizer\n",
    "    optimizer = tf.train.AdamOptimizer(lr)\n",
    "\n",
    "    # Gradient Clipping\n",
    "    gradients = optimizer.compute_gradients(cost)\n",
    "    capped_gradients = [(tf.clip_by_value(grad, -1., 1.), var) for grad, var in gradients if grad is not None]\n",
    "    train_op = optimizer.apply_gradients(capped_gradients)"
   ]
  },
  {
   "cell_type": "markdown",
   "metadata": {
    "deletable": true,
    "editable": true
   },
   "source": [
    "## Train\n",
    "Train the neural network on the preprocessed data.  If you have a hard time getting a good loss, check the [forums](https://discussions.udacity.com/) to see if anyone is having the same problem."
   ]
  },
  {
   "cell_type": "code",
   "execution_count": 16,
   "metadata": {
    "collapsed": false,
    "deletable": true,
    "editable": true
   },
   "outputs": [
    {
     "name": "stdout",
     "output_type": "stream",
     "text": [
      "Epoch   0 Batch    0/13   train_loss = 8.824\n",
      "Epoch   0 Batch    6/13   train_loss = 7.043\n",
      "Epoch   0 Batch   12/13   train_loss = 6.316\n",
      "Epoch   1 Batch    5/13   train_loss = 6.159\n",
      "Epoch   1 Batch   11/13   train_loss = 5.964\n",
      "Epoch   2 Batch    4/13   train_loss = 5.948\n",
      "Epoch   2 Batch   10/13   train_loss = 5.903\n",
      "Epoch   3 Batch    3/13   train_loss = 5.769\n",
      "Epoch   3 Batch    9/13   train_loss = 5.759\n",
      "Epoch   4 Batch    2/13   train_loss = 5.654\n",
      "Epoch   4 Batch    8/13   train_loss = 5.591\n",
      "Epoch   5 Batch    1/13   train_loss = 5.470\n",
      "Epoch   5 Batch    7/13   train_loss = 5.457\n",
      "Epoch   6 Batch    0/13   train_loss = 5.393\n",
      "Epoch   6 Batch    6/13   train_loss = 5.303\n",
      "Epoch   6 Batch   12/13   train_loss = 5.318\n",
      "Epoch   7 Batch    5/13   train_loss = 5.163\n",
      "Epoch   7 Batch   11/13   train_loss = 5.103\n",
      "Epoch   8 Batch    4/13   train_loss = 5.079\n",
      "Epoch   8 Batch   10/13   train_loss = 5.092\n",
      "Epoch   9 Batch    3/13   train_loss = 4.947\n",
      "Epoch   9 Batch    9/13   train_loss = 4.986\n",
      "Epoch  10 Batch    2/13   train_loss = 4.927\n",
      "Epoch  10 Batch    8/13   train_loss = 4.870\n",
      "Epoch  11 Batch    1/13   train_loss = 4.761\n",
      "Epoch  11 Batch    7/13   train_loss = 4.766\n",
      "Epoch  12 Batch    0/13   train_loss = 4.751\n",
      "Epoch  12 Batch    6/13   train_loss = 4.665\n",
      "Epoch  12 Batch   12/13   train_loss = 4.718\n",
      "Epoch  13 Batch    5/13   train_loss = 4.585\n",
      "Epoch  13 Batch   11/13   train_loss = 4.549\n",
      "Epoch  14 Batch    4/13   train_loss = 4.555\n",
      "Epoch  14 Batch   10/13   train_loss = 4.582\n",
      "Epoch  15 Batch    3/13   train_loss = 4.453\n",
      "Epoch  15 Batch    9/13   train_loss = 4.503\n",
      "Epoch  16 Batch    2/13   train_loss = 4.448\n",
      "Epoch  16 Batch    8/13   train_loss = 4.408\n",
      "Epoch  17 Batch    1/13   train_loss = 4.314\n",
      "Epoch  17 Batch    7/13   train_loss = 4.334\n",
      "Epoch  18 Batch    0/13   train_loss = 4.334\n",
      "Epoch  18 Batch    6/13   train_loss = 4.253\n",
      "Epoch  18 Batch   12/13   train_loss = 4.310\n",
      "Epoch  19 Batch    5/13   train_loss = 4.192\n",
      "Epoch  19 Batch   11/13   train_loss = 4.171\n",
      "Epoch  20 Batch    4/13   train_loss = 4.178\n",
      "Epoch  20 Batch   10/13   train_loss = 4.203\n",
      "Epoch  21 Batch    3/13   train_loss = 4.079\n",
      "Epoch  21 Batch    9/13   train_loss = 4.139\n",
      "Epoch  22 Batch    2/13   train_loss = 4.082\n",
      "Epoch  22 Batch    8/13   train_loss = 4.054\n",
      "Epoch  23 Batch    1/13   train_loss = 3.976\n",
      "Epoch  23 Batch    7/13   train_loss = 4.002\n",
      "Epoch  24 Batch    0/13   train_loss = 3.998\n",
      "Epoch  24 Batch    6/13   train_loss = 3.922\n",
      "Epoch  24 Batch   12/13   train_loss = 3.981\n",
      "Epoch  25 Batch    5/13   train_loss = 3.867\n",
      "Epoch  25 Batch   11/13   train_loss = 3.866\n",
      "Epoch  26 Batch    4/13   train_loss = 3.871\n",
      "Epoch  26 Batch   10/13   train_loss = 3.886\n",
      "Epoch  27 Batch    3/13   train_loss = 3.774\n",
      "Epoch  27 Batch    9/13   train_loss = 3.829\n",
      "Epoch  28 Batch    2/13   train_loss = 3.773\n",
      "Epoch  28 Batch    8/13   train_loss = 3.743\n",
      "Epoch  29 Batch    1/13   train_loss = 3.673\n",
      "Epoch  29 Batch    7/13   train_loss = 3.697\n",
      "Epoch  30 Batch    0/13   train_loss = 3.703\n",
      "Epoch  30 Batch    6/13   train_loss = 3.626\n",
      "Epoch  30 Batch   12/13   train_loss = 3.683\n",
      "Epoch  31 Batch    5/13   train_loss = 3.573\n",
      "Epoch  31 Batch   11/13   train_loss = 3.580\n",
      "Epoch  32 Batch    4/13   train_loss = 3.584\n",
      "Epoch  32 Batch   10/13   train_loss = 3.586\n",
      "Epoch  33 Batch    3/13   train_loss = 3.486\n",
      "Epoch  33 Batch    9/13   train_loss = 3.536\n",
      "Epoch  34 Batch    2/13   train_loss = 3.501\n",
      "Epoch  34 Batch    8/13   train_loss = 3.474\n",
      "Epoch  35 Batch    1/13   train_loss = 3.413\n",
      "Epoch  35 Batch    7/13   train_loss = 3.429\n",
      "Epoch  36 Batch    0/13   train_loss = 3.435\n",
      "Epoch  36 Batch    6/13   train_loss = 3.366\n",
      "Epoch  36 Batch   12/13   train_loss = 3.410\n",
      "Epoch  37 Batch    5/13   train_loss = 3.313\n",
      "Epoch  37 Batch   11/13   train_loss = 3.332\n",
      "Epoch  38 Batch    4/13   train_loss = 3.337\n",
      "Epoch  38 Batch   10/13   train_loss = 3.325\n",
      "Epoch  39 Batch    3/13   train_loss = 3.240\n",
      "Epoch  39 Batch    9/13   train_loss = 3.269\n",
      "Epoch  40 Batch    2/13   train_loss = 3.241\n",
      "Epoch  40 Batch    8/13   train_loss = 3.221\n",
      "Epoch  41 Batch    1/13   train_loss = 3.176\n",
      "Epoch  41 Batch    7/13   train_loss = 3.188\n",
      "Epoch  42 Batch    0/13   train_loss = 3.186\n",
      "Epoch  42 Batch    6/13   train_loss = 3.122\n",
      "Epoch  42 Batch   12/13   train_loss = 3.167\n",
      "Epoch  43 Batch    5/13   train_loss = 3.064\n",
      "Epoch  43 Batch   11/13   train_loss = 3.101\n",
      "Epoch  44 Batch    4/13   train_loss = 3.111\n",
      "Epoch  44 Batch   10/13   train_loss = 3.084\n",
      "Epoch  45 Batch    3/13   train_loss = 3.020\n",
      "Epoch  45 Batch    9/13   train_loss = 3.048\n",
      "Epoch  46 Batch    2/13   train_loss = 3.042\n",
      "Epoch  46 Batch    8/13   train_loss = 3.024\n",
      "Epoch  47 Batch    1/13   train_loss = 2.995\n",
      "Epoch  47 Batch    7/13   train_loss = 2.990\n",
      "Epoch  48 Batch    0/13   train_loss = 2.979\n",
      "Epoch  48 Batch    6/13   train_loss = 2.943\n",
      "Epoch  48 Batch   12/13   train_loss = 2.991\n",
      "Epoch  49 Batch    5/13   train_loss = 2.898\n",
      "Epoch  49 Batch   11/13   train_loss = 2.906\n",
      "Epoch  50 Batch    4/13   train_loss = 2.910\n",
      "Epoch  50 Batch   10/13   train_loss = 2.887\n",
      "Epoch  51 Batch    3/13   train_loss = 2.852\n",
      "Epoch  51 Batch    9/13   train_loss = 2.869\n",
      "Epoch  52 Batch    2/13   train_loss = 2.848\n",
      "Epoch  52 Batch    8/13   train_loss = 2.830\n",
      "Epoch  53 Batch    1/13   train_loss = 2.793\n",
      "Epoch  53 Batch    7/13   train_loss = 2.786\n",
      "Epoch  54 Batch    0/13   train_loss = 2.785\n",
      "Epoch  54 Batch    6/13   train_loss = 2.748\n",
      "Epoch  54 Batch   12/13   train_loss = 2.776\n",
      "Epoch  55 Batch    5/13   train_loss = 2.677\n",
      "Epoch  55 Batch   11/13   train_loss = 2.709\n",
      "Epoch  56 Batch    4/13   train_loss = 2.724\n",
      "Epoch  56 Batch   10/13   train_loss = 2.697\n",
      "Epoch  57 Batch    3/13   train_loss = 2.663\n",
      "Epoch  57 Batch    9/13   train_loss = 2.663\n",
      "Epoch  58 Batch    2/13   train_loss = 2.647\n",
      "Epoch  58 Batch    8/13   train_loss = 2.631\n",
      "Epoch  59 Batch    1/13   train_loss = 2.612\n",
      "Epoch  59 Batch    7/13   train_loss = 2.601\n",
      "Epoch  60 Batch    0/13   train_loss = 2.605\n",
      "Epoch  60 Batch    6/13   train_loss = 2.598\n",
      "Epoch  60 Batch   12/13   train_loss = 2.645\n",
      "Epoch  61 Batch    5/13   train_loss = 2.536\n",
      "Epoch  61 Batch   11/13   train_loss = 2.552\n",
      "Epoch  62 Batch    4/13   train_loss = 2.553\n",
      "Epoch  62 Batch   10/13   train_loss = 2.514\n",
      "Epoch  63 Batch    3/13   train_loss = 2.496\n",
      "Epoch  63 Batch    9/13   train_loss = 2.486\n",
      "Epoch  64 Batch    2/13   train_loss = 2.470\n",
      "Epoch  64 Batch    8/13   train_loss = 2.454\n",
      "Epoch  65 Batch    1/13   train_loss = 2.444\n",
      "Epoch  65 Batch    7/13   train_loss = 2.432\n",
      "Epoch  66 Batch    0/13   train_loss = 2.413\n",
      "Epoch  66 Batch    6/13   train_loss = 2.378\n",
      "Epoch  66 Batch   12/13   train_loss = 2.403\n",
      "Epoch  67 Batch    5/13   train_loss = 2.332\n",
      "Epoch  67 Batch   11/13   train_loss = 2.374\n",
      "Epoch  68 Batch    4/13   train_loss = 2.384\n",
      "Epoch  68 Batch   10/13   train_loss = 2.334\n",
      "Epoch  69 Batch    3/13   train_loss = 2.320\n",
      "Epoch  69 Batch    9/13   train_loss = 2.303\n",
      "Epoch  70 Batch    2/13   train_loss = 2.299\n",
      "Epoch  70 Batch    8/13   train_loss = 2.295\n",
      "Epoch  71 Batch    1/13   train_loss = 2.291\n",
      "Epoch  71 Batch    7/13   train_loss = 2.281\n",
      "Epoch  72 Batch    0/13   train_loss = 2.265\n",
      "Epoch  72 Batch    6/13   train_loss = 2.248\n",
      "Epoch  72 Batch   12/13   train_loss = 2.268\n",
      "Epoch  73 Batch    5/13   train_loss = 2.206\n",
      "Epoch  73 Batch   11/13   train_loss = 2.235\n",
      "Epoch  74 Batch    4/13   train_loss = 2.246\n",
      "Epoch  74 Batch   10/13   train_loss = 2.193\n",
      "Epoch  75 Batch    3/13   train_loss = 2.183\n",
      "Epoch  75 Batch    9/13   train_loss = 2.164\n",
      "Epoch  76 Batch    2/13   train_loss = 2.169\n",
      "Epoch  76 Batch    8/13   train_loss = 2.189\n",
      "Epoch  77 Batch    1/13   train_loss = 2.198\n",
      "Epoch  77 Batch    7/13   train_loss = 2.168\n",
      "Epoch  78 Batch    0/13   train_loss = 2.139\n",
      "Epoch  78 Batch    6/13   train_loss = 2.112\n",
      "Epoch  78 Batch   12/13   train_loss = 2.141\n",
      "Epoch  79 Batch    5/13   train_loss = 2.092\n",
      "Epoch  79 Batch   11/13   train_loss = 2.132\n",
      "Epoch  80 Batch    4/13   train_loss = 2.117\n",
      "Epoch  80 Batch   10/13   train_loss = 2.057\n",
      "Epoch  81 Batch    3/13   train_loss = 2.060\n",
      "Epoch  81 Batch    9/13   train_loss = 2.061\n",
      "Epoch  82 Batch    2/13   train_loss = 2.054\n",
      "Epoch  82 Batch    8/13   train_loss = 2.044\n",
      "Epoch  83 Batch    1/13   train_loss = 2.037\n",
      "Epoch  83 Batch    7/13   train_loss = 2.001\n",
      "Epoch  84 Batch    0/13   train_loss = 1.996\n",
      "Epoch  84 Batch    6/13   train_loss = 1.984\n",
      "Epoch  84 Batch   12/13   train_loss = 1.995\n",
      "Epoch  85 Batch    5/13   train_loss = 1.952\n",
      "Epoch  85 Batch   11/13   train_loss = 1.995\n",
      "Epoch  86 Batch    4/13   train_loss = 2.002\n",
      "Epoch  86 Batch   10/13   train_loss = 1.955\n",
      "Epoch  87 Batch    3/13   train_loss = 1.971\n",
      "Epoch  87 Batch    9/13   train_loss = 1.964\n",
      "Epoch  88 Batch    2/13   train_loss = 1.940\n",
      "Epoch  88 Batch    8/13   train_loss = 1.944\n",
      "Epoch  89 Batch    1/13   train_loss = 1.955\n",
      "Epoch  89 Batch    7/13   train_loss = 1.955\n",
      "Epoch  90 Batch    0/13   train_loss = 2.021\n",
      "Epoch  90 Batch    6/13   train_loss = 2.092\n",
      "Epoch  90 Batch   12/13   train_loss = 2.003\n",
      "Epoch  91 Batch    5/13   train_loss = 1.901\n",
      "Epoch  91 Batch   11/13   train_loss = 1.933\n",
      "Epoch  92 Batch    4/13   train_loss = 1.930\n",
      "Epoch  92 Batch   10/13   train_loss = 1.850\n",
      "Epoch  93 Batch    3/13   train_loss = 1.834\n",
      "Epoch  93 Batch    9/13   train_loss = 1.807\n",
      "Epoch  94 Batch    2/13   train_loss = 1.792\n",
      "Epoch  94 Batch    8/13   train_loss = 1.802\n",
      "Epoch  95 Batch    1/13   train_loss = 1.799\n",
      "Epoch  95 Batch    7/13   train_loss = 1.763\n",
      "Epoch  96 Batch    0/13   train_loss = 1.753\n",
      "Epoch  96 Batch    6/13   train_loss = 1.732\n",
      "Epoch  96 Batch   12/13   train_loss = 1.730\n",
      "Epoch  97 Batch    5/13   train_loss = 1.689\n",
      "Epoch  97 Batch   11/13   train_loss = 1.720\n",
      "Epoch  98 Batch    4/13   train_loss = 1.720\n",
      "Epoch  98 Batch   10/13   train_loss = 1.673\n",
      "Epoch  99 Batch    3/13   train_loss = 1.686\n",
      "Epoch  99 Batch    9/13   train_loss = 1.664\n",
      "Epoch 100 Batch    2/13   train_loss = 1.656\n",
      "Epoch 100 Batch    8/13   train_loss = 1.659\n",
      "Epoch 101 Batch    1/13   train_loss = 1.658\n",
      "Epoch 101 Batch    7/13   train_loss = 1.627\n",
      "Epoch 102 Batch    0/13   train_loss = 1.626\n",
      "Epoch 102 Batch    6/13   train_loss = 1.614\n",
      "Epoch 102 Batch   12/13   train_loss = 1.611\n",
      "Epoch 103 Batch    5/13   train_loss = 1.579\n",
      "Epoch 103 Batch   11/13   train_loss = 1.603\n",
      "Epoch 104 Batch    4/13   train_loss = 1.600\n",
      "Epoch 104 Batch   10/13   train_loss = 1.550\n",
      "Epoch 105 Batch    3/13   train_loss = 1.567\n",
      "Epoch 105 Batch    9/13   train_loss = 1.546\n",
      "Epoch 106 Batch    2/13   train_loss = 1.545\n",
      "Epoch 106 Batch    8/13   train_loss = 1.550\n",
      "Epoch 107 Batch    1/13   train_loss = 1.549\n",
      "Epoch 107 Batch    7/13   train_loss = 1.519\n",
      "Epoch 108 Batch    0/13   train_loss = 1.525\n",
      "Epoch 108 Batch    6/13   train_loss = 1.507\n",
      "Epoch 108 Batch   12/13   train_loss = 1.498\n",
      "Epoch 109 Batch    5/13   train_loss = 1.472\n",
      "Epoch 109 Batch   11/13   train_loss = 1.497\n",
      "Epoch 110 Batch    4/13   train_loss = 1.499\n",
      "Epoch 110 Batch   10/13   train_loss = 1.460\n",
      "Epoch 111 Batch    3/13   train_loss = 1.479\n",
      "Epoch 111 Batch    9/13   train_loss = 1.455\n",
      "Epoch 112 Batch    2/13   train_loss = 1.442\n",
      "Epoch 112 Batch    8/13   train_loss = 1.446\n",
      "Epoch 113 Batch    1/13   train_loss = 1.452\n",
      "Epoch 113 Batch    7/13   train_loss = 1.434\n",
      "Epoch 114 Batch    0/13   train_loss = 1.449\n",
      "Epoch 114 Batch    6/13   train_loss = 1.434\n",
      "Epoch 114 Batch   12/13   train_loss = 1.429\n",
      "Epoch 115 Batch    5/13   train_loss = 1.399\n",
      "Epoch 115 Batch   11/13   train_loss = 1.417\n",
      "Epoch 116 Batch    4/13   train_loss = 1.419\n",
      "Epoch 116 Batch   10/13   train_loss = 1.374\n",
      "Epoch 117 Batch    3/13   train_loss = 1.396\n",
      "Epoch 117 Batch    9/13   train_loss = 1.366\n",
      "Epoch 118 Batch    2/13   train_loss = 1.361\n",
      "Epoch 118 Batch    8/13   train_loss = 1.358\n",
      "Epoch 119 Batch    1/13   train_loss = 1.353\n",
      "Epoch 119 Batch    7/13   train_loss = 1.320\n",
      "Epoch 120 Batch    0/13   train_loss = 1.328\n",
      "Epoch 120 Batch    6/13   train_loss = 1.306\n",
      "Epoch 120 Batch   12/13   train_loss = 1.311\n",
      "Epoch 121 Batch    5/13   train_loss = 1.301\n",
      "Epoch 121 Batch   11/13   train_loss = 1.317\n",
      "Epoch 122 Batch    4/13   train_loss = 1.313\n",
      "Epoch 122 Batch   10/13   train_loss = 1.261\n",
      "Epoch 123 Batch    3/13   train_loss = 1.271\n",
      "Epoch 123 Batch    9/13   train_loss = 1.250\n",
      "Epoch 124 Batch    2/13   train_loss = 1.253\n",
      "Epoch 124 Batch    8/13   train_loss = 1.266\n",
      "Epoch 125 Batch    1/13   train_loss = 1.267\n",
      "Epoch 125 Batch    7/13   train_loss = 1.239\n",
      "Epoch 126 Batch    0/13   train_loss = 1.250\n",
      "Epoch 126 Batch    6/13   train_loss = 1.224\n",
      "Epoch 126 Batch   12/13   train_loss = 1.221\n",
      "Epoch 127 Batch    5/13   train_loss = 1.207\n",
      "Epoch 127 Batch   11/13   train_loss = 1.217\n",
      "Epoch 128 Batch    4/13   train_loss = 1.222\n",
      "Epoch 128 Batch   10/13   train_loss = 1.183\n",
      "Epoch 129 Batch    3/13   train_loss = 1.200\n",
      "Epoch 129 Batch    9/13   train_loss = 1.177\n",
      "Epoch 130 Batch    2/13   train_loss = 1.169\n",
      "Epoch 130 Batch    8/13   train_loss = 1.172\n",
      "Epoch 131 Batch    1/13   train_loss = 1.166\n",
      "Epoch 131 Batch    7/13   train_loss = 1.139\n",
      "Epoch 132 Batch    0/13   train_loss = 1.158\n",
      "Epoch 132 Batch    6/13   train_loss = 1.132\n",
      "Epoch 132 Batch   12/13   train_loss = 1.126\n",
      "Epoch 133 Batch    5/13   train_loss = 1.118\n",
      "Epoch 133 Batch   11/13   train_loss = 1.124\n",
      "Epoch 134 Batch    4/13   train_loss = 1.117\n",
      "Epoch 134 Batch   10/13   train_loss = 1.072\n",
      "Epoch 135 Batch    3/13   train_loss = 1.102\n",
      "Epoch 135 Batch    9/13   train_loss = 1.078\n",
      "Epoch 136 Batch    2/13   train_loss = 1.078\n",
      "Epoch 136 Batch    8/13   train_loss = 1.069\n",
      "Epoch 137 Batch    1/13   train_loss = 1.065\n",
      "Epoch 137 Batch    7/13   train_loss = 1.038\n",
      "Epoch 138 Batch    0/13   train_loss = 1.062\n",
      "Epoch 138 Batch    6/13   train_loss = 1.037\n",
      "Epoch 138 Batch   12/13   train_loss = 1.039\n",
      "Epoch 139 Batch    5/13   train_loss = 1.029\n",
      "Epoch 139 Batch   11/13   train_loss = 1.030\n",
      "Epoch 140 Batch    4/13   train_loss = 1.029\n",
      "Epoch 140 Batch   10/13   train_loss = 0.983\n",
      "Epoch 141 Batch    3/13   train_loss = 1.007\n",
      "Epoch 141 Batch    9/13   train_loss = 0.989\n",
      "Epoch 142 Batch    2/13   train_loss = 0.991\n",
      "Epoch 142 Batch    8/13   train_loss = 0.985\n",
      "Epoch 143 Batch    1/13   train_loss = 0.977\n",
      "Epoch 143 Batch    7/13   train_loss = 0.959\n",
      "Epoch 144 Batch    0/13   train_loss = 0.977\n",
      "Epoch 144 Batch    6/13   train_loss = 0.967\n",
      "Epoch 144 Batch   12/13   train_loss = 0.960\n",
      "Epoch 145 Batch    5/13   train_loss = 0.952\n",
      "Epoch 145 Batch   11/13   train_loss = 0.949\n",
      "Epoch 146 Batch    4/13   train_loss = 0.943\n",
      "Epoch 146 Batch   10/13   train_loss = 0.902\n",
      "Epoch 147 Batch    3/13   train_loss = 0.920\n",
      "Epoch 147 Batch    9/13   train_loss = 0.908\n",
      "Epoch 148 Batch    2/13   train_loss = 0.911\n",
      "Epoch 148 Batch    8/13   train_loss = 0.907\n",
      "Epoch 149 Batch    1/13   train_loss = 0.891\n",
      "Epoch 149 Batch    7/13   train_loss = 0.871\n",
      "Model Trained and Saved\n"
     ]
    }
   ],
   "source": [
    "\"\"\"\n",
    "DON'T MODIFY ANYTHING IN THIS CELL\n",
    "\"\"\"\n",
    "batches = get_batches(int_text, batch_size, seq_length)\n",
    "\n",
    "with tf.Session(graph=train_graph) as sess:\n",
    "    sess.run(tf.global_variables_initializer())\n",
    "\n",
    "    for epoch_i in range(num_epochs):\n",
    "        state = sess.run(initial_state, {input_text: batches[0][0]})\n",
    "\n",
    "        for batch_i, (x, y) in enumerate(batches):\n",
    "            feed = {\n",
    "                input_text: x,\n",
    "                targets: y,\n",
    "                initial_state: state,\n",
    "                lr: learning_rate}\n",
    "            train_loss, state, _ = sess.run([cost, final_state, train_op], feed)\n",
    "\n",
    "            # Show every <show_every_n_batches> batches\n",
    "            if (epoch_i * len(batches) + batch_i) % show_every_n_batches == 0:\n",
    "                print('Epoch {:>3} Batch {:>4}/{}   train_loss = {:.3f}'.format(\n",
    "                    epoch_i,\n",
    "                    batch_i,\n",
    "                    len(batches),\n",
    "                    train_loss))\n",
    "\n",
    "    # Save Model\n",
    "    saver = tf.train.Saver()\n",
    "    saver.save(sess, save_dir)\n",
    "    print('Model Trained and Saved')"
   ]
  },
  {
   "cell_type": "markdown",
   "metadata": {
    "deletable": true,
    "editable": true
   },
   "source": [
    "## Save Parameters\n",
    "Save `seq_length` and `save_dir` for generating a new TV script."
   ]
  },
  {
   "cell_type": "code",
   "execution_count": 17,
   "metadata": {
    "collapsed": true,
    "deletable": true,
    "editable": true
   },
   "outputs": [],
   "source": [
    "\"\"\"\n",
    "DON'T MODIFY ANYTHING IN THIS CELL\n",
    "\"\"\"\n",
    "# Save parameters for checkpoint\n",
    "helper.save_params((seq_length, save_dir))"
   ]
  },
  {
   "cell_type": "markdown",
   "metadata": {
    "deletable": true,
    "editable": true
   },
   "source": [
    "# Checkpoint"
   ]
  },
  {
   "cell_type": "code",
   "execution_count": 18,
   "metadata": {
    "collapsed": true,
    "deletable": true,
    "editable": true
   },
   "outputs": [],
   "source": [
    "\"\"\"\n",
    "DON'T MODIFY ANYTHING IN THIS CELL\n",
    "\"\"\"\n",
    "import tensorflow as tf\n",
    "import numpy as np\n",
    "import helper\n",
    "import problem_unittests as tests\n",
    "\n",
    "_, vocab_to_int, int_to_vocab, token_dict = helper.load_preprocess()\n",
    "seq_length, load_dir = helper.load_params()"
   ]
  },
  {
   "cell_type": "markdown",
   "metadata": {
    "deletable": true,
    "editable": true
   },
   "source": [
    "## Implement Generate Functions\n",
    "### Get Tensors\n",
    "Get tensors from `loaded_graph` using the function [`get_tensor_by_name()`](https://www.tensorflow.org/api_docs/python/tf/Graph#get_tensor_by_name).  Get the tensors using the following names:\n",
    "- \"input:0\"\n",
    "- \"initial_state:0\"\n",
    "- \"final_state:0\"\n",
    "- \"probs:0\"\n",
    "\n",
    "Return the tensors in the following tuple `(InputTensor, InitialStateTensor, FinalStateTensor, ProbsTensor)` "
   ]
  },
  {
   "cell_type": "code",
   "execution_count": 19,
   "metadata": {
    "collapsed": false,
    "deletable": true,
    "editable": true
   },
   "outputs": [
    {
     "name": "stdout",
     "output_type": "stream",
     "text": [
      "Tests Passed\n"
     ]
    }
   ],
   "source": [
    "def get_tensors(loaded_graph):\n",
    "    \"\"\"\n",
    "    Get input, initial state, final state, and probabilities tensor from <loaded_graph>\n",
    "    :param loaded_graph: TensorFlow graph loaded from file\n",
    "    :return: Tuple (InputTensor, InitialStateTensor, FinalStateTensor, ProbsTensor)\n",
    "    \"\"\"\n",
    "    inputTensor = loaded_graph.get_tensor_by_name(\"input:0\")\n",
    "    initialStateTensor = loaded_graph.get_tensor_by_name(\"initial_state:0\")\n",
    "    finalStateTensor = loaded_graph.get_tensor_by_name(\"final_state:0\")\n",
    "    probsTensor = loaded_graph.get_tensor_by_name(\"probs:0\")\n",
    "    return inputTensor, initialStateTensor, finalStateTensor, probsTensor\n",
    "\n",
    "\n",
    "\"\"\"\n",
    "DON'T MODIFY ANYTHING IN THIS CELL THAT IS BELOW THIS LINE\n",
    "\"\"\"\n",
    "tests.test_get_tensors(get_tensors)"
   ]
  },
  {
   "cell_type": "markdown",
   "metadata": {
    "deletable": true,
    "editable": true
   },
   "source": [
    "### Choose Word\n",
    "Implement the `pick_word()` function to select the next word using `probabilities`."
   ]
  },
  {
   "cell_type": "code",
   "execution_count": 20,
   "metadata": {
    "collapsed": false,
    "deletable": true,
    "editable": true
   },
   "outputs": [
    {
     "name": "stdout",
     "output_type": "stream",
     "text": [
      "Tests Passed\n"
     ]
    }
   ],
   "source": [
    "def pick_word(probabilities, int_to_vocab):\n",
    "    \"\"\"\n",
    "    Pick the next word in the generated text\n",
    "    :param probabilities: Probabilites of the next word\n",
    "    :param int_to_vocab: Dictionary of word ids as the keys and words as the values\n",
    "    :return: String of the predicted word\n",
    "    \"\"\"\n",
    "    word = np.random.choice(list(int_to_vocab.values()), p=probabilities)\n",
    "    return word\n",
    "\n",
    "\"\"\"\n",
    "DON'T MODIFY ANYTHING IN THIS CELL THAT IS BELOW THIS LINE\n",
    "\"\"\"\n",
    "tests.test_pick_word(pick_word)"
   ]
  },
  {
   "cell_type": "markdown",
   "metadata": {
    "deletable": true,
    "editable": true
   },
   "source": [
    "## Generate TV Script\n",
    "This will generate the TV script for you.  Set `gen_length` to the length of TV script you want to generate."
   ]
  },
  {
   "cell_type": "code",
   "execution_count": 22,
   "metadata": {
    "collapsed": false,
    "deletable": true,
    "editable": true
   },
   "outputs": [
    {
     "name": "stdout",
     "output_type": "stream",
     "text": [
      "homer_simpson:(sighs) ooh, and head, a pen pal, pick up my friend.\n",
      "lenny_leonard:(thoughtful) nothin' to live for some kinda punishment-- i mean, marge. we won my heart so good to be done.(to moe, loud) achem!\n",
      "other_player: newsweek want chilly willy!\n",
      "crowd: hope! beep!!\n",
      "snake_jailbird: uh, you're right, moe. how innocuous are your flashbacks?\n",
      "rev. _hooper: you know, boxing might learn-- the most powerful drink i needed a big cat in the world-- a good friend.\n",
      "moe_szyslak: oh, what happened?\n",
      "homer_simpson: you should join my religion, moe.\n",
      "moe_szyslak: well, you guys nobody do still drive that japanese beer.\n",
      "moe_szyslak: aw, read on the counter...\n",
      "duffman: ooh, how are you people?\n",
      "marge_simpson: i got a real friend.\n",
      "moe_szyslak: hey, get the darts. you went--\n",
      "homer_simpson:(pointed) hey, there's no turning my friend!\n",
      "moe_szyslak: okay, what have to start a bag?\n",
      "lindsay_naegle: well just if it makes you say one that way.\n",
      "c. _montgomery_burns: letter? that's my fault. i couldn't bear to join a boat with a woman.\n",
      "homer_simpson: i don't wanna look at my family...\n",
      "walther_hotenhoffer:(upset) there's to a girl long time we got some pian-ee.\n",
      "\n",
      "\n",
      "moe_szyslak: oh, you're thinking. i was gonna use it to the time.\n",
      "\n",
      "\n",
      "homer_simpson: i got a rash. i didn't rip out his wallet in\n"
     ]
    }
   ],
   "source": [
    "gen_length = 300\n",
    "# homer_simpson, moe_szyslak, or Barney_Gumble\n",
    "prime_word = 'homer_simpson'\n",
    "\n",
    "\"\"\"\n",
    "DON'T MODIFY ANYTHING IN THIS CELL THAT IS BELOW THIS LINE\n",
    "\"\"\"\n",
    "loaded_graph = tf.Graph()\n",
    "with tf.Session(graph=loaded_graph) as sess:\n",
    "    # Load saved model\n",
    "    loader = tf.train.import_meta_graph(load_dir + '.meta')\n",
    "    loader.restore(sess, load_dir)\n",
    "\n",
    "    # Get Tensors from loaded model\n",
    "    input_text, initial_state, final_state, probs = get_tensors(loaded_graph)\n",
    "\n",
    "    # Sentences generation setup\n",
    "    gen_sentences = [prime_word + ':']\n",
    "    prev_state = sess.run(initial_state, {input_text: np.array([[1]])})\n",
    "\n",
    "    # Generate sentences\n",
    "    for n in range(gen_length):\n",
    "        # Dynamic Input\n",
    "        dyn_input = [[vocab_to_int[word] for word in gen_sentences[-seq_length:]]]\n",
    "        dyn_seq_length = len(dyn_input[0])\n",
    "\n",
    "        # Get Prediction\n",
    "        probabilities, prev_state = sess.run(\n",
    "            [probs, final_state],\n",
    "            {input_text: dyn_input, initial_state: prev_state})\n",
    "        \n",
    "        pred_word = pick_word(probabilities[dyn_seq_length-1], int_to_vocab)\n",
    "\n",
    "        gen_sentences.append(pred_word)\n",
    "    \n",
    "    # Remove tokens\n",
    "    tv_script = ' '.join(gen_sentences)\n",
    "    for key, token in token_dict.items():\n",
    "        ending = ' ' if key in ['\\n', '(', '\"'] else ''\n",
    "        tv_script = tv_script.replace(' ' + token.lower(), key)\n",
    "    tv_script = tv_script.replace('\\n ', '\\n')\n",
    "    tv_script = tv_script.replace('( ', '(')\n",
    "        \n",
    "    print(tv_script)"
   ]
  },
  {
   "cell_type": "markdown",
   "metadata": {
    "deletable": true,
    "editable": true
   },
   "source": [
    "# The TV Script is Nonsensical\n",
    "It's ok if the TV script doesn't make any sense.  We trained on less than a megabyte of text.  In order to get good results, you'll have to use a smaller vocabulary or get more data.  Luckly there's more data!  As we mentioned in the begging of this project, this is a subset of [another dataset](https://www.kaggle.com/wcukierski/the-simpsons-by-the-data).  We didn't have you train on all the data, because that would take too long.  However, you are free to train your neural network on all the data.  After you complete the project, of course.\n",
    "# Submitting This Project\n",
    "When submitting this project, make sure to run all the cells before saving the notebook. Save the notebook file as \"dlnd_tv_script_generation.ipynb\" and save it as a HTML file under \"File\" -> \"Download as\". Include the \"helper.py\" and \"problem_unittests.py\" files in your submission."
   ]
  }
 ],
 "metadata": {
  "anaconda-cloud": {},
  "kernelspec": {
   "display_name": "Python 3",
   "language": "python",
   "name": "python3"
  },
  "language_info": {
   "codemirror_mode": {
    "name": "ipython",
    "version": 3
   },
   "file_extension": ".py",
   "mimetype": "text/x-python",
   "name": "python",
   "nbconvert_exporter": "python",
   "pygments_lexer": "ipython3",
   "version": "3.5.3"
  }
 },
 "nbformat": 4,
 "nbformat_minor": 1
}
